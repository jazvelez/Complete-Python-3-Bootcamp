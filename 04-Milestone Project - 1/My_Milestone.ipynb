{
 "cells": [
  {
   "cell_type": "code",
   "execution_count": 1,
   "metadata": {
    "collapsed": true
   },
   "outputs": [],
   "source": [
    "from IPython.display import clear_output\n",
    "from random import randint"
   ]
  },
  {
   "cell_type": "code",
   "execution_count": 2,
   "metadata": {
    "collapsed": true
   },
   "outputs": [],
   "source": [
    "def display_board(board):\n",
    "    \"\"\"\n",
    "    Prints board in tic-tac-toe format\n",
    "    \n",
    "    INPUT: Board\n",
    "    OUTPUT: None\n",
    "    \"\"\"\n",
    "    clear_output()\n",
    "    print(\"   |   |\")\n",
    "    print(f' {board[7]} | {board[8]} | {board[9]}')\n",
    "    print(\"___|___|___\")\n",
    "    print(\"   |   |\")\n",
    "    print(f' {board[4]} | {board[5]} | {board[6]}')\n",
    "    print(\"___|___|___\")\n",
    "    print(\"   |   |\")\n",
    "    print(f' {board[1]} | {board[2]} | {board[3]}')\n",
    "    print(\"   |   |\")"
   ]
  },
  {
   "cell_type": "code",
   "execution_count": 3,
   "metadata": {},
   "outputs": [],
   "source": [
    "def marker_choice():\n",
    "    \"\"\"\n",
    "    Determines which player will go first, and the marker for each player\n",
    "    \n",
    "    INPUT: None\n",
    "    OUTPUT: List, first index holds whihc player is going first, second index holds player1's marker, third index holds player2's marker\n",
    "    \"\"\"\n",
    "    markers = [\"\", \"\", \"\"]\n",
    "    # Randomly select who goes first\n",
    "    if randint(1,2) == 1:\n",
    "        markers[0] = 1\n",
    "        print(\"Player 1 will go first.\\n\")\n",
    "        while True:\n",
    "            markers[1] = input(\"Would you like marker 'X' or marker 'O'? \\n\").upper()\n",
    "            if markers[1] == \"X\":\n",
    "                markers[2] = \"O\"\n",
    "                break\n",
    "            elif markers[1] == \"O\":\n",
    "                markers[2] = \"X\"\n",
    "                break\n",
    "            else: \n",
    "                print(\"That is an invalid choice.\\n\")\n",
    "    else:\n",
    "        markers[0] = 2\n",
    "        print(\"Player 2 will go first.\")\n",
    "        print(\"\")\n",
    "        while True:\n",
    "            markers[2] = input(\"Would you like marker 'X' or marker 'O'? \\n\").upper()\n",
    "            if markers[2] == \"X\":\n",
    "                markers[1] = \"O\"\n",
    "                break\n",
    "            elif markers[2] == \"O\":\n",
    "                markers[1] = \"X\"\n",
    "                break\n",
    "            else: \n",
    "                print(\"That is an invalid choice.\\n\")\n",
    "    return markers"
   ]
  },
  {
   "cell_type": "code",
   "execution_count": 4,
   "metadata": {
    "collapsed": true
   },
   "outputs": [],
   "source": [
    "def check_position(board, x):\n",
    "    \"\"\"\n",
    "    Helper function that determines wehter a position on the board is empty\n",
    "    \n",
    "    INPUT: Board, position index\n",
    "    OUTPUT: True if position is empty, False otherwise\n",
    "    \"\"\"\n",
    "    return board[x] == \" \""
   ]
  },
  {
   "cell_type": "code",
   "execution_count": 5,
   "metadata": {
    "collapsed": true
   },
   "outputs": [],
   "source": [
    "def player_choice(board):\n",
    "    \"\"\"\n",
    "    Takes user input for selecting position on tic-tac-toe board until user selects a position that is empty\n",
    "    \n",
    "    INPUT: Board\n",
    "    OUTPUT: Position 1 - 9\n",
    "    \"\"\"\n",
    "    while True:\n",
    "        pos = int(input(\"Please pick a position 1 - 9: \\n\"))\n",
    "        if check_position(board, pos):\n",
    "            return pos\n",
    "        else: \n",
    "            print(\"That position is not empty.\\n\")"
   ]
  },
  {
   "cell_type": "code",
   "execution_count": 9,
   "metadata": {},
   "outputs": [],
   "source": [
    "def win_check(board, mark):\n",
    "    \"\"\"\n",
    "    Checks to see if there are any winning combinations on the tic-tac-toe board\n",
    "    \n",
    "    INPUT: Board, symbol\n",
    "    OUTPUT: True if there's a winner, False otherwise\n",
    "    \"\"\"\n",
    "    # Check rows\n",
    "    return (board[7] == mark and board[8] == mark and board[9] == mark)  or \\\n",
    "    (board[4] == board[5] == board[6] == mark) or \\\n",
    "    (board[1] == board[2] == board[3] == mark) or \\\n",
    "    (board[7] == board[4] == board[1] == mark) or \\\n",
    "    (board[8] == board[5] == board[2] == mark) or \\\n",
    "    (board[9] == board[6] == board[3] == mark) or \\\n",
    "    (board[7] == board[5] == board[3] == mark) or \\\n",
    "    (board[9] == board[5] == board[1] == mark)      "
   ]
  },
  {
   "cell_type": "code",
   "execution_count": 7,
   "metadata": {},
   "outputs": [],
   "source": [
    "def play():\n",
    "    # Initialize board\n",
    "    board = [\"#\", \" \", \" \", \" \", \" \", \" \", \" \", \" \", \" \", \" \"]\n",
    "    # Initialize move counter\n",
    "    count = 0\n",
    "    # Player marker selection\n",
    "    active, player1, player2 = marker_choice()\n",
    "    \n",
    "    while True:\n",
    "        if active == 1:\n",
    "            print(\"Player 1s turn:\")\n",
    "            board[player_choice(board)] = player1\n",
    "            display_board(board)\n",
    "            if win_check(board, player1):\n",
    "                print(\"Player 1 wins!\")\n",
    "                break\n",
    "            count += 1\n",
    "            active = 2\n",
    "        else:\n",
    "            print(\"Player 2s turn:\")\n",
    "            board[player_choice(board)] = player2\n",
    "            display_board(board)\n",
    "            if win_check(board, player2):\n",
    "                print(\"Player 2 wins!\")\n",
    "                break\n",
    "            count += 1\n",
    "            active = 1\n",
    "        if count == 9:\n",
    "            print(\"There are no more moves\")\n",
    "            break\n",
    "    play_again = input(\"Would you like to play again? (Y/N) \").upper()\n",
    "    if play_again == \"Y\":\n",
    "        play()\n",
    "    else:\n",
    "        print(\"Hope you had fun!\")"
   ]
  },
  {
   "cell_type": "code",
   "execution_count": null,
   "metadata": {},
   "outputs": [],
   "source": []
  }
 ],
 "metadata": {
  "kernelspec": {
   "display_name": "Python 3",
   "language": "python",
   "name": "python3"
  },
  "language_info": {
   "codemirror_mode": {
    "name": "ipython",
    "version": 3
   },
   "file_extension": ".py",
   "mimetype": "text/x-python",
   "name": "python",
   "nbconvert_exporter": "python",
   "pygments_lexer": "ipython3",
   "version": "3.6.3"
  }
 },
 "nbformat": 4,
 "nbformat_minor": 2
}
