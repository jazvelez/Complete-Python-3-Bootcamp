{
 "cells": [
  {
   "cell_type": "code",
   "execution_count": 11,
   "metadata": {
    "collapsed": true
   },
   "outputs": [],
   "source": [
    "from IPython.display import clear_output\n",
    "from random import randint"
   ]
  },
  {
   "cell_type": "code",
   "execution_count": 6,
   "metadata": {},
   "outputs": [],
   "source": [
    "def display_board(board):\n",
    "    print(\"   |   |\")\n",
    "    print(f' {board[7]} | {board[8]} | {board[9]}')\n",
    "    print(\"___|___|___\")\n",
    "    print(\"   |   |\")\n",
    "    print(f' {board[4]} | {board[5]} | {board[6]}')\n",
    "    print(\"___|___|___\")\n",
    "    print(\"   |   |\")\n",
    "    print(f' {board[1]} | {board[2]} | {board[3]}')\n",
    "    print(\"   |   |\")"
   ]
  },
  {
   "cell_type": "code",
   "execution_count": null,
   "metadata": {
    "collapsed": true
   },
   "outputs": [],
   "source": [
    "def player_choice():\n",
    "    \n",
    "    "
   ]
  },
  {
   "cell_type": "code",
   "execution_count": 9,
   "metadata": {
    "collapsed": true
   },
   "outputs": [],
   "source": [
    "def check_position(board, x):\n",
    "    return board[x] == \" \"\n"
   ]
  },
  {
   "cell_type": "code",
   "execution_count": 14,
   "metadata": {},
   "outputs": [],
   "source": [
    "def check_win(board):\n",
    "    # need to adjust for blanks\n",
    "    return board[7] == board[8] and board[8] == board[9] or \\\n",
    "    board[7] == board[8] and board[8] == board[9] or \\\n",
    "    board[4] == board[5] and board[5] == board[6] or \\\n",
    "    board[1] == board[2] and board[2] == board[3] or \\\n",
    "    board[7] == board[4] and board[4] == board[1] or \\\n",
    "    board[8] == board[5] and board[5] == board[2] or \\\n",
    "    board[9] == board[6] and board[6] == board[3] or \\\n",
    "    board[7] == board[5] and board[5] == board[3] or \\\n",
    "    board[9] == board[5] and board[5] == board[1] \n",
    "    \n",
    "    \n",
    "    "
   ]
  },
  {
   "cell_type": "code",
   "execution_count": 8,
   "metadata": {},
   "outputs": [],
   "source": [
    "def play():\n",
    "    # Player marker selection\n",
    "    if randint(1,2) == 1:\n",
    "        print(\"Player 1 will go first.\")\n",
    "        print(\"\")\n",
    "        player1 = input(\"Would you like marker 'X' or marker 'O'? \").upper()\n",
    "        if player1 = 'X':\n",
    "            player2 = 'O'\n",
    "        else:\n",
    "            player2 = 'X'\n",
    "    else:\n",
    "        print(\"Player 2 will go first.\")\n",
    "        print(\"\")\n",
    "        player2 = input(\"Would you like marker 'X' or marker 'O'? \").upper()\n",
    "        if player2 = 'X':\n",
    "            player1 = 'O'\n",
    "        else:\n",
    "            player1 = 'X'\n",
    "        \n",
    "    # "
   ]
  }
 ],
 "metadata": {
  "kernelspec": {
   "display_name": "Python 3",
   "language": "python",
   "name": "python3"
  },
  "language_info": {
   "codemirror_mode": {
    "name": "ipython",
    "version": 3
   },
   "file_extension": ".py",
   "mimetype": "text/x-python",
   "name": "python",
   "nbconvert_exporter": "python",
   "pygments_lexer": "ipython3",
   "version": "3.6.3"
  }
 },
 "nbformat": 4,
 "nbformat_minor": 2
}
