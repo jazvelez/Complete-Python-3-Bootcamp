{
 "cells": [
  {
   "cell_type": "code",
   "execution_count": null,
   "metadata": {
    "collapsed": true
   },
   "outputs": [],
   "source": [
    "from IPython.display import clear_output\n",
    "from random import randint"
   ]
  },
  {
   "cell_type": "code",
   "execution_count": 6,
   "metadata": {
    "collapsed": true
   },
   "outputs": [],
   "source": [
    "def display_board(board):\n",
    "    \"\"\"\n",
    "    Prints board in tic-tac-toe format\n",
    "    \n",
    "    INPUT: Board\n",
    "    OUTPUT: None\n",
    "    \"\"\"\n",
    "    print(\"   |   |\")\n",
    "    print(f' {board[7]} | {board[8]} | {board[9]}')\n",
    "    print(\"___|___|___\")\n",
    "    print(\"   |   |\")\n",
    "    print(f' {board[4]} | {board[5]} | {board[6]}')\n",
    "    print(\"___|___|___\")\n",
    "    print(\"   |   |\")\n",
    "    print(f' {board[1]} | {board[2]} | {board[3]}')\n",
    "    print(\"   |   |\")"
   ]
  },
  {
   "cell_type": "code",
   "execution_count": null,
   "metadata": {},
   "outputs": [],
   "source": [
    "def marker_choice():\n",
    "    \"\"\"\n",
    "    Determines which player will go first, and the marker for each player\n",
    "    \n",
    "    INPUT: None\n",
    "    OUTPUT: List, first index holds player1's marker, second index holds player2's marker, third index holds whihc player is going first\n",
    "    \"\"\"\n",
    "    markers = [\"\", \"\", \"\"]\n",
    "    # Randomly select who goes first\n",
    "    if randint(1,2) == 1:\n",
    "        markers[2] = 1\n",
    "        print(\"Player 1 will go first.\")\n",
    "        print(\"\")\n",
    "        while True:\n",
    "            markers[0] = input(\"Would you like marker 'X' or marker 'O'? \").upper()\n",
    "            if markers[0] == \"X\":\n",
    "                markers[1] = \"O\"\n",
    "                break\n",
    "            elif markers[0] == \"O\":\n",
    "                markers[1] = \"X\"\n",
    "                break\n",
    "            else: \n",
    "                print(\"That is an invalid choice.\")\n",
    "    else:\n",
    "        markers[2] = 2\n",
    "        print(\"Player 2 will go first.\")\n",
    "        print(\"\")\n",
    "        while True:\n",
    "            markers[1] = input(\"Would you like marker 'X' or marker 'O'? \").upper()\n",
    "            if markers[1] == \"X\":\n",
    "                markers[0] = \"O\"\n",
    "                break\n",
    "            elif markers[1] == \"O\":\n",
    "                markers[0] = \"X\"\n",
    "                break\n",
    "            else: \n",
    "                print(\"That is an invalid choice.\")\n",
    "                \n",
    "    return markers\n",
    "\n",
    "print(marker_choice())"
   ]
  },
  {
   "cell_type": "code",
   "execution_count": null,
   "metadata": {
    "collapsed": true
   },
   "outputs": [],
   "source": [
    "def check_position(board, x):\n",
    "    return board[x] == \" \"\n",
    "    "
   ]
  },
  {
   "cell_type": "code",
   "execution_count": 3,
   "metadata": {},
   "outputs": [],
   "source": [
    "def player_choice(board):\n",
    "    \"\"\"\n",
    "    Takes user input for selecting position on tic-tac-toe board until user selects a position that is empty\n",
    "    \n",
    "    INPUT: Board\n",
    "    OUTPUT: Position 1 - 9\n",
    "    \"\"\"\n",
    "    while True:\n",
    "        pos = int(input(\"Please pick a position 1 - 9: \"))\n",
    "        if check_position(board, pos):\n",
    "            return pos"
   ]
  },
  {
   "cell_type": "code",
   "execution_count": 6,
   "metadata": {
    "collapsed": true
   },
   "outputs": [
    {
     "data": {
      "text/plain": [
       "True"
      ]
     },
     "execution_count": 6,
     "metadata": {},
     "output_type": "execute_result"
    }
   ],
   "source": [
    "def win_check(board):\n",
    "    \"\"\"\n",
    "    Checks to see if there are any winning combinations on the tic-tac-toe board\n",
    "    \n",
    "    INPUT: Board\n",
    "    OUTPUT: True if there's a winner, False otherwise\n",
    "    \"\"\"\n",
    "    # Check rows\n",
    "    return ((board[7] == board[8] and board[8] == board[9]) and not(board[7] == \" \" and board[8] == \" \" and board[9] == \" \" )) or \\\n",
    "    (board[4] == board[5] and board[5] == board[6] and not (board[4] == \" \" and board[5] == \" \" and board[6] == \" \" )) or \\\n",
    "    (board[1] == board[2] and board[2] == board[3] and not (board[1] == \" \" and board[2] == \" \" and board[3] == \" \" )) or \\\n",
    "    # Check columns\n",
    "    (board[7] == board[4] and board[4] == board[1] and not (board[7] == \" \" and board[4] == \" \" and board[1] == \" \" )) or \\\n",
    "    (board[8] == board[5] and board[5] == board[2] and not (board[8] == \" \" and board[5] == \" \" and board[2] == \" \" )) or \\\n",
    "    (board[9] == board[6] and board[6] == board[3] and not (board[9] == \" \" and board[6] == \" \" and board[3] == \" \" )) or \\\n",
    "    # Check diagonals\n",
    "    (board[7] == board[5] and board[5] == board[3] and not (board[7] == \" \" and board[5] == \" \" and board[3] == \" \" )) or \\\n",
    "    (board[9] == board[5] and board[5] == board[1] and not (board[9] == \" \" and board[5] == \" \" and board[1] == \" \" ))      "
   ]
  },
  {
   "cell_type": "code",
   "execution_count": null,
   "metadata": {
    "collapsed": true
   },
   "outputs": [],
   "source": [
    "def play():\n",
    "    # Initialize board\n",
    "    board = [\"#\", \" \", \" \", \" \", \" \", \" \", \" \", \" \", \" \", \" \"]\n",
    "    \n",
    "    # Player marker selection\n",
    "    player1, player2, first = marker_choice()\n",
    "\n",
    "    \n",
    "    # Position\n",
    "    \n",
    "    \n",
    "    # Check\n"
   ]
  }
 ],
 "metadata": {
  "kernelspec": {
   "display_name": "Python 3",
   "language": "python",
   "name": "python3"
  },
  "language_info": {
   "codemirror_mode": {
    "name": "ipython",
    "version": 3
   },
   "file_extension": ".py",
   "mimetype": "text/x-python",
   "name": "python",
   "nbconvert_exporter": "python",
   "pygments_lexer": "ipython3",
   "version": "3.6.3"
  }
 },
 "nbformat": 4,
 "nbformat_minor": 2
}
