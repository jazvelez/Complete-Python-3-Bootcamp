{
 "cells": [
  {
   "cell_type": "code",
   "execution_count": 9,
   "metadata": {
    "collapsed": true
   },
   "outputs": [],
   "source": [
    "# Imports\n",
    "import random"
   ]
  },
  {
   "cell_type": "code",
   "execution_count": 18,
   "metadata": {},
   "outputs": [],
   "source": [
    "class Deck():\n",
    "    def __init__(self):\n",
    "        self.cards = [(\"HA\", 11), (\"H2\", 2), (\"H3\", 3), (\"H4\", 4), (\"H5\", 5), (\"H6\", 6)] + \\\n",
    "        [(\"H7\", 7), (\"H8\", 8), (\"H9\", 9), (\"H10\", 10), (\"HJ\", 10), (\"HQ\", 10), (\"HK\", 10)] + \\\n",
    "        [(\"CA\", 11), (\"C2\", 2), (\"C3\", 3), (\"C4\", 4), (\"C5\", 5), (\"C6\", 6)] + \\\n",
    "        [(\"C7\", 7), (\"C8\", 8), (\"C9\", 9), (\"C10\", 10), (\"CJ\", 10), (\"CQ\", 10), (\"CK\", 10)] + \\\n",
    "        [(\"SA\", 11), (\"S2\", 2), (\"S3\", 3), (\"S4\", 4), (\"S5\", 5), (\"S6\", 6)] + \\\n",
    "        [(\"S7\", 7), (\"S8\", 8), (\"S9\", 9), (\"S10\", 10), (\"SJ\", 10), (\"SQ\", 10), (\"SK\", 10)] + \\\n",
    "        [(\"DA\", 11), (\"D2\", 2), (\"D3\", 3), (\"D4\", 4), (\"D5\", 5), (\"D6\", 6)] + \\\n",
    "        [(\"D7\", 7), (\"D8\", 8), (\"D9\", 9), (\"D10\", 10), (\"DJ\", 10), (\"DQ\", 10), (\"DK\", 10)]\n",
    "        \n",
    "    def shuffle_deck(self):\n",
    "        random.shuffle(self.cards)\n",
    "        \n",
    "    def deal_card(self):\n",
    "        return self.cards.pop()\n"
   ]
  },
  {
   "cell_type": "code",
   "execution_count": 19,
   "metadata": {
    "collapsed": true
   },
   "outputs": [],
   "source": [
    "class Hand():\n",
    "    def __init__(self):\n",
    "        self.cards = []\n",
    "        self.value = 0\n",
    "        self.ace = 0\n",
    "        \n",
    "    def add_card(self, card):\n",
    "        self.cards.append(card)\n",
    "        if card[1] == 11:\n",
    "            self.ace += 1\n",
    "        self.hand_sum(card)\n",
    "        \n",
    "    def hand_sum(self, card):\n",
    "        self.value += card[1]\n",
    "        if self.value > 21 and self.ace > 0:\n",
    "            self.value -= 10\n",
    "            ace -= 1\n",
    "        \n",
    "    def bust(self):\n",
    "        \"\"\"\n",
    "        Checks if a hands value is greater than 21\n",
    "\n",
    "        INPUT: None\n",
    "        OUTPUT: bool\n",
    "        \"\"\"\n",
    "        return self.value > 21\n",
    "    \n",
    "    def blackjack(self):\n",
    "        \"\"\"\n",
    "        Checks if a hands value is equal to 21\n",
    "\n",
    "        INPUT: None\n",
    "        OUTPUT: bool\n",
    "        \"\"\"\n",
    "        return self.value == 21\n",
    "    \n",
    "    def __str__(self):\n",
    "        \"\"\"\n",
    "        Returns a string with the card name and card value for every card in the hand, as well as the hand's value.\n",
    "\n",
    "        INPUT: None\n",
    "        OUTPUT: String \n",
    "        \"\"\"\n",
    "        hand_str = \"\"\n",
    "        for card in self.cards:\n",
    "            hand_str += f\"Card: {card[0]}\\nValue: {card[1]}\\n}\"\n",
    "        hand_str += f\"TOTAL: {self}.value\"\n",
    "        "
   ]
  },
  {
   "cell_type": "code",
   "execution_count": null,
   "metadata": {},
   "outputs": [],
   "source": [
    "def blackjack():\n",
    "\n",
    "    game_deck = Deck()\n",
    "    player = Hand()\n",
    "    dealer = Hand()\n",
    "\n",
    "    # deal first round of cards\n",
    "    dealer.add_card(game_deck.deal_card())\n",
    "    player.add_card(game_deck.deal_card())\n",
    "\n",
    "    # deal second round of cards\n",
    "    dealer.add_card(game_deck.deal_card())\n",
    "    player.add_card(game_deck.deal_card())\n",
    "\n",
    "\n",
    "    # check for initial hand sum\n",
    "    if player.blackjack():\n",
    "        if dealer.blackjack():\n",
    "            print(\"Draw!\")\n",
    "            return\n",
    "        else:\n",
    "            print(\"You win!\")\n",
    "            return\n",
    "    elif dealer.blackjack():\n",
    "        print(\"You lose :(\")\n",
    "    \n",
    "    # Player's turn\n",
    "    while True:\n",
    "        print(\"DEALER'S HAND:\\n\")\n",
    "        print(dealer)\n",
    "        print(\"\")\n",
    "    \n",
    "        print(\"YOUR HAND:\\n\")\n",
    "        print(player)\n",
    "        print(\"\")\n",
    "        \n",
    "        # Asks user for next move\n",
    "        hit_or_stay = \"\"\n",
    "        while True:\n",
    "            hit_or_stay = input(\"Hit or stay?(H/S): \").upper()\n",
    "            if hit_or_stay == \"H\" or hit_or_stay == \"S\":\n",
    "                break\n",
    "            else:\n",
    "                print(\"Please enter \\\"H\\\" or \\\"S\\\"\\n\")\n",
    "                \n",
    "        if hit_or_stay = \"H\":\n",
    "            player.add_card(game_deck.deal_card())\n",
    "            if player.bust():\n",
    "                print(\"You lose!\")\n",
    "                return\n",
    "            elif player.blackjack():\n",
    "                print(\"Blackjack!/nDealer's turn./n\")\n",
    "                break\n",
    "        \n",
    "        \n",
    "        \n",
    "        \n",
    "    \n",
    "        "
   ]
  },
  {
   "cell_type": "code",
   "execution_count": null,
   "metadata": {
    "collapsed": true
   },
   "outputs": [],
   "source": []
  },
  {
   "cell_type": "code",
   "execution_count": null,
   "metadata": {
    "collapsed": true
   },
   "outputs": [],
   "source": []
  },
  {
   "cell_type": "code",
   "execution_count": null,
   "metadata": {
    "collapsed": true
   },
   "outputs": [],
   "source": []
  },
  {
   "cell_type": "code",
   "execution_count": null,
   "metadata": {
    "collapsed": true
   },
   "outputs": [],
   "source": []
  },
  {
   "cell_type": "code",
   "execution_count": null,
   "metadata": {
    "collapsed": true
   },
   "outputs": [],
   "source": []
  }
 ],
 "metadata": {
  "kernelspec": {
   "display_name": "Python 3",
   "language": "python",
   "name": "python3"
  },
  "language_info": {
   "codemirror_mode": {
    "name": "ipython",
    "version": 3
   },
   "file_extension": ".py",
   "mimetype": "text/x-python",
   "name": "python",
   "nbconvert_exporter": "python",
   "pygments_lexer": "ipython3",
   "version": "3.6.3"
  }
 },
 "nbformat": 4,
 "nbformat_minor": 2
}
