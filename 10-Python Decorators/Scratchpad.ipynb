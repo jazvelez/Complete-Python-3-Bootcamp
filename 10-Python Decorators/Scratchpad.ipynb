{
 "cells": [
  {
   "cell_type": "code",
   "execution_count": 8,
   "metadata": {
    "collapsed": true
   },
   "outputs": [],
   "source": [
    "def decorator_func(needs_decor):\n",
    "    def wrapper():\n",
    "        print(\"Before\")\n",
    "        print(needs_decor())\n",
    "        print(\"After\")\n",
    "        \n",
    "    return wrapper\n",
    "\n",
    "def jazzypoo():\n",
    "    return \"Jazmin\""
   ]
  },
  {
   "cell_type": "code",
   "execution_count": 9,
   "metadata": {},
   "outputs": [
    {
     "name": "stdout",
     "output_type": "stream",
     "text": [
      "Before\n",
      "Jazmin\n",
      "After\n"
     ]
    }
   ],
   "source": [
    "# cool stuffs\n",
    "decorator_func(jazzypoo)()\n"
   ]
  },
  {
   "cell_type": "code",
   "execution_count": null,
   "metadata": {
    "collapsed": true
   },
   "outputs": [],
   "source": []
  }
 ],
 "metadata": {
  "kernelspec": {
   "display_name": "Python 3",
   "language": "python",
   "name": "python3"
  },
  "language_info": {
   "codemirror_mode": {
    "name": "ipython",
    "version": 3
   },
   "file_extension": ".py",
   "mimetype": "text/x-python",
   "name": "python",
   "nbconvert_exporter": "python",
   "pygments_lexer": "ipython3",
   "version": "3.6.3"
  }
 },
 "nbformat": 4,
 "nbformat_minor": 2
}
